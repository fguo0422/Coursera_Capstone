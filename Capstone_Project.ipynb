<h1> This notebook will be used for capstone project </h1>
# Import the pandas library as pd.
import pandas as pd
# Import the numpy library as np.
import numpy as np
# Print the following the statement: Hello Capstone Project Course
print ("Hello Capstone Project Course")
